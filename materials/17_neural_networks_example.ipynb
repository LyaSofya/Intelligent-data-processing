{
  "nbformat": 4,
  "nbformat_minor": 0,
  "metadata": {
    "colab": {
      "provenance": []
    },
    "kernelspec": {
      "name": "python3",
      "display_name": "Python 3"
    },
    "language_info": {
      "name": "python"
    }
  },
  "cells": [
    {
      "cell_type": "markdown",
      "source": [
        "**Семинар 17**"
      ],
      "metadata": {
        "id": "KNjEmbk6WJto"
      }
    },
    {
      "cell_type": "markdown",
      "source": [
        "Обучение нейросетей"
      ],
      "metadata": {
        "id": "HF3aT-alWzsR"
      }
    },
    {
      "cell_type": "code",
      "source": [
        "import numpy as np\n",
        "import sys\n",
        "\n",
        "class PartyNN(object):\n",
        "\n",
        "    def __init__(self, learning_rate=0.1):\n",
        "      self.weights_0_1 = np.random.normal(0.0, 2 ** -0.5, (2, 3))\n",
        "      self.weights_1_2 = np.random.normal(0.0, 1, (1, 2))\n",
        "      self.sigmoid_mapper = np.vectorize(self.sigmoid)\n",
        "      self.learning_rate = np.array([learning_rate])\n",
        "\n",
        "    def sigmoid(self, x):\n",
        "      return 1 / (1 + np.exp(-x))\n",
        "\n",
        "    def predict(self, inputs):\n",
        "      inputs_1 = np.dot(self.weights_0_1, inputs)\n",
        "      outputs_1 = self.sigmoid_mapper(inputs_1)\n",
        "\n",
        "      inputs_2 = np.dot(self.weights_1_2, outputs_1)\n",
        "      outputs_2 = self.sigmoid_mapper(inputs_2)\n",
        "      return outputs_2\n",
        "\n",
        "    def train(self, inputs, expected_predict):\n",
        "      inputs_1 = np.dot(self.weights_0_1, inputs)\n",
        "      outputs_1 = self.sigmoid_mapper(inputs_1)\n",
        "\n",
        "      inputs_2 = np.dot(self.weights_1_2, outputs_1)\n",
        "      outputs_2 = self.sigmoid_mapper(inputs_2)\n",
        "      actual_predict = outputs_2[0]\n",
        "\n",
        "      error_layer_2 = np.array([actual_predict - expected_predict])\n",
        "      gradient_layer_2 = actual_predict * (1 - actual_predict)\n",
        "      weights_delta_layer_2 = error_layer_2 * gradient_layer_2\n",
        "      self.weights_1_2 -= (np.dot(weights_delta_layer_2, outputs_1.reshape(1, len(outputs_1)))) * self.learning_rate\n",
        "      error_layer_1 = weights_delta_layer_2 * self.weights_1_2\n",
        "      gradient_layer_1 = outputs_1 * (1 - outputs_1)\n",
        "      weights_delta_layer_1 = error_layer_1 * gradient_layer_1\n",
        "      self.weights_0_1 -= np.dot(inputs.reshape(len(inputs), 1), weights_delta_layer_1).T  * self.learning_rate\n",
        "\n",
        "def MSE(y, Y):\n",
        "  return np.mean((y-Y)**2)\n",
        "\n",
        "train = [\n",
        "         ([0, 0, 0], 0),\n",
        "         ([0, 0, 1], 1),\n",
        "         ([0, 1, 0], 0),\n",
        "         ([0, 1, 1], 0),\n",
        "         ([1, 0, 0], 1),\n",
        "         ([1, 0, 1], 1),\n",
        "         ([1, 1, 0], 0),\n",
        "         ([1, 1, 1], 0),\n",
        "]\n",
        "\n",
        "#epochs = 5000\n",
        "#learning_rate = 0.05\n",
        "epochs = 6000\n",
        "learning_rate = 0.08\n",
        "\n",
        "network = PartyNN(learning_rate=learning_rate)\n",
        "\n",
        "for e in range(epochs):\n",
        "    inputs_ = []\n",
        "    correct_predictions = []\n",
        "    for input_stat, correct_predict in train:\n",
        "      network.train(np.array(input_stat), correct_predict)\n",
        "      inputs_.append(np.array(input_stat))\n",
        "      correct_predictions.append(np.array(correct_predict))\n",
        "\n",
        "    train_loss = MSE(network.predict(np.array(inputs_).T), np.array(correct_predictions))\n",
        "    sys.stdout.write(\"\\rProgress: {}, Training loss: {}\".format(str(100 * e/float(epochs))[:4], str(train_loss)[:5]))\n",
        ""
      ],
      "metadata": {
        "colab": {
          "base_uri": "https://localhost:8080/"
        },
        "id": "QaZjQfwfWNLx",
        "outputId": "ed4a08a1-ed68-486b-f943-bcbbf874d092"
      },
      "execution_count": null,
      "outputs": [
        {
          "output_type": "stream",
          "name": "stdout",
          "text": [
            "Progress: 99.9, Training loss: 0.001"
          ]
        }
      ]
    },
    {
      "cell_type": "code",
      "source": [
        "for input_stat, correct_predict in train:\n",
        "  print(\"For input: {} the prediction is: {}, expected: {}\".format(\n",
        "      str(input_stat),\n",
        "      str(network.predict(np.array(input_stat)) > .5),\n",
        "      str(correct_predict == 1)))"
      ],
      "metadata": {
        "colab": {
          "base_uri": "https://localhost:8080/"
        },
        "id": "BONNj7W0WgfE",
        "outputId": "3473ac66-bad5-4625-97b6-8420ce265dc3"
      },
      "execution_count": null,
      "outputs": [
        {
          "output_type": "stream",
          "name": "stdout",
          "text": [
            "For input: [0, 0, 0] the prediction is: [False], expected: False\n",
            "For input: [0, 0, 1] the prediction is: [ True], expected: True\n",
            "For input: [0, 1, 0] the prediction is: [False], expected: False\n",
            "For input: [0, 1, 1] the prediction is: [False], expected: False\n",
            "For input: [1, 0, 0] the prediction is: [ True], expected: True\n",
            "For input: [1, 0, 1] the prediction is: [ True], expected: True\n",
            "For input: [1, 1, 0] the prediction is: [False], expected: False\n",
            "For input: [1, 1, 1] the prediction is: [False], expected: False\n"
          ]
        }
      ]
    },
    {
      "cell_type": "code",
      "source": [
        "for input_stat, correct_predict in train:\n",
        "  print(\"For input: {} the prediction is: {}, expected: {}\".format(\n",
        "  str(input_stat),\n",
        "  str(network.predict(np.array(input_stat))),\n",
        "  str(correct_predict == 1)))\n"
      ],
      "metadata": {
        "colab": {
          "base_uri": "https://localhost:8080/"
        },
        "id": "sqw1wB3SWjFN",
        "outputId": "b9928dc8-386b-4192-f434-8036cc2a4200"
      },
      "execution_count": null,
      "outputs": [
        {
          "output_type": "stream",
          "name": "stdout",
          "text": [
            "For input: [0, 0, 0] the prediction is: [0.09072163], expected: False\n",
            "For input: [0, 0, 1] the prediction is: [0.9456196], expected: True\n",
            "For input: [0, 1, 0] the prediction is: [0.00017157], expected: False\n",
            "For input: [0, 1, 1] the prediction is: [0.00043785], expected: False\n",
            "For input: [1, 0, 0] the prediction is: [0.94559385], expected: True\n",
            "For input: [1, 0, 1] the prediction is: [0.9827135], expected: True\n",
            "For input: [1, 1, 0] the prediction is: [0.00043699], expected: False\n",
            "For input: [1, 1, 1] the prediction is: [0.02728796], expected: False\n"
          ]
        }
      ]
    },
    {
      "cell_type": "code",
      "source": [
        "network.weights_0_1"
      ],
      "metadata": {
        "colab": {
          "base_uri": "https://localhost:8080/"
        },
        "id": "OzoQttg1Wm7e",
        "outputId": "e7392678-81ec-4336-96fc-8837a5295930"
      },
      "execution_count": null,
      "outputs": [
        {
          "output_type": "execute_result",
          "data": {
            "text/plain": [
              "array([[-2.29294046,  5.30134211, -2.29007862],\n",
              "       [ 1.87867572, -3.5220874 ,  1.88405697]])"
            ]
          },
          "metadata": {},
          "execution_count": 4
        }
      ]
    },
    {
      "cell_type": "code",
      "source": [
        "network.weights_1_2"
      ],
      "metadata": {
        "colab": {
          "base_uri": "https://localhost:8080/"
        },
        "id": "JmNpUfyEWpss",
        "outputId": "66bdd758-dd7d-4e35-a585-8e788befe271"
      },
      "execution_count": null,
      "outputs": [
        {
          "output_type": "execute_result",
          "data": {
            "text/plain": [
              "array([[-8.83541644,  4.22570545]])"
            ]
          },
          "metadata": {},
          "execution_count": 5
        }
      ]
    }
  ]
}